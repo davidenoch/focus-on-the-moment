{
 "cells": [
  {
   "cell_type": "code",
   "execution_count": 1,
   "id": "d0eb4f16-5a99-460d-a5ba-706b7ef0bbe7",
   "metadata": {
    "id": "bA5ajAmk7XH6"
   },
   "outputs": [],
   "source": [
    "\n",
    "%run 'startup.py'\n",
    "%config IPCompleter.use_jedi = False\n",
    "%load_ext autoreload\n",
    "%matplotlib inline\n",
    "%config IPCompleter.greedy = True\n",
    "\n"
   ]
  },
  {
   "cell_type": "code",
   "execution_count": 20,
   "id": "8ff7a58c-484d-487a-a752-090a8558605c",
   "metadata": {
    "tags": []
   },
   "outputs": [],
   "source": [
    "sns.set_style()\n",
    "sns.set_palette('colorblind')"
   ]
  },
  {
   "cell_type": "code",
   "execution_count": 21,
   "id": "1fe866a8-8171-4360-a000-14f4664cdaef",
   "metadata": {
    "tags": []
   },
   "outputs": [],
   "source": [
    "%%capture\n",
    "pd.set_option('display.max_colwidth', None)\n",
    "pd.set_option('display.max_rows', None)\n",
    "warnings.filterwarnings('ignore')\n",
    "%xmode minimal"
   ]
  },
  {
   "cell_type": "code",
   "execution_count": 2,
   "id": "f5e08d6a-a2f8-41b2-8843-669c5c69180b",
   "metadata": {},
   "outputs": [],
   "source": [
    "%%capture\n",
    "!pip install shroomdk\n",
    "%run 'query_flipside.py'"
   ]
  },
  {
   "cell_type": "code",
   "execution_count": 3,
   "id": "163bcb68-2689-4c7e-be47-6eca69d4cb72",
   "metadata": {},
   "outputs": [
    {
     "data": {
      "text/html": [
       "<div>\n",
       "<style scoped>\n",
       "    .dataframe tbody tr th:only-of-type {\n",
       "        vertical-align: middle;\n",
       "    }\n",
       "\n",
       "    .dataframe tbody tr th {\n",
       "        vertical-align: top;\n",
       "    }\n",
       "\n",
       "    .dataframe thead th {\n",
       "        text-align: right;\n",
       "    }\n",
       "</style>\n",
       "<table border=\"1\" class=\"dataframe\">\n",
       "  <thead>\n",
       "    <tr style=\"text-align: right;\">\n",
       "      <th></th>\n",
       "      <th>max(block_timestamp)</th>\n",
       "    </tr>\n",
       "  </thead>\n",
       "  <tbody>\n",
       "    <tr>\n",
       "      <th>0</th>\n",
       "      <td>2022-09-13 15:22:38.000</td>\n",
       "    </tr>\n",
       "  </tbody>\n",
       "</table>\n",
       "</div>"
      ],
      "text/plain": [
       "      max(block_timestamp)\n",
       "0  2022-09-13 15:22:38.000"
      ]
     },
     "execution_count": 3,
     "metadata": {},
     "output_type": "execute_result"
    }
   ],
   "source": [
    "# insert sql query here\n",
    "sql = \"select max(block_timestamp)from ethereum.core.fact_blocks\"\n",
    "query_flipside(sql)"
   ]
  },
  {
   "cell_type": "code",
   "execution_count": 10,
   "id": "b2d2106b-31b4-48be-9d9f-4574639744ce",
   "metadata": {},
   "outputs": [
    {
     "name": "stdout",
     "output_type": "stream",
     "text": [
      "/Users/mo/playpen/Scripts\n"
     ]
    }
   ],
   "source": [
    "cd Scripts/\n"
   ]
  },
  {
   "cell_type": "code",
   "execution_count": 16,
   "id": "de2d31ce-df26-4043-ae6c-25fbfca2e4d0",
   "metadata": {},
   "outputs": [
    {
     "name": "stdout",
     "output_type": "stream",
     "text": [
      "Writing transpose_api.py\n"
     ]
    }
   ],
   "source": [
    "%%writefile -a transpose_api.py\n",
    "!pip install -U transpose-data\n",
    "from transpose import Transpose\n",
    "api = Transpose(TRANSPOSE_API)"
   ]
  },
  {
   "cell_type": "code",
   "execution_count": 6,
   "id": "8fdbdd4d-163f-4d0c-8224-7531da73d104",
   "metadata": {},
   "outputs": [
    {
     "name": "stdout",
     "output_type": "stream",
     "text": [
      "Moments.csv\n",
      "NFL All Day Tournament [Round 1]  .ipynb\n",
      "\u001b[1m\u001b[36mScripts\u001b[m\u001b[m/\n",
      "allday_schema.md\n",
      "nfl.allday.code-workspace\n",
      "nft_id.csv\n",
      "nft_sales.csv\n",
      "query_flipside.py\n",
      "startup.py\n",
      "startup.sh\n",
      "startup_template.ipynb\n",
      "{'flowID': 505, 'id': 'dcc598c6-e441-4cf.json\n"
     ]
    }
   ],
   "source": [
    "ls"
   ]
  },
  {
   "cell_type": "code",
   "execution_count": null,
   "id": "a3ca9b43-f496-433d-a3dd-fb372e25bca5",
   "metadata": {},
   "outputs": [],
   "source": [
    "!touch transpose_api.py"
   ]
  },
  {
   "cell_type": "code",
   "execution_count": null,
   "id": "4e97d90f-c9a6-499e-a3cd-4ce507ebe31f",
   "metadata": {},
   "outputs": [],
   "source": [
    "ls"
   ]
  },
  {
   "cell_type": "code",
   "execution_count": null,
   "id": "11e5354d-733c-4b88-989d-6a0c2718c094",
   "metadata": {},
   "outputs": [],
   "source": [
    "sql = \"\"\"\n",
    "select NFT_ID, moment_stats_full:flowID as momentID\n",
    "from flow.core.dim_allday_metadata\n",
    "\"\"\"\n",
    "nft_id_df = query_flipside(sql)"
   ]
  },
  {
   "cell_type": "code",
   "execution_count": null,
   "id": "4711624c",
   "metadata": {},
   "outputs": [],
   "source": [
    " nft_id_df.head(10)"
   ]
  },
  {
   "cell_type": "code",
   "execution_count": null,
   "id": "a2b1dd22-3eca-4d2e-a1f8-6e8b1c04e165",
   "metadata": {},
   "outputs": [],
   "source": [
    "nft_id_df.shape"
   ]
  },
  {
   "cell_type": "code",
   "execution_count": null,
   "id": "be34adfa-7991-425e-aed0-c10afb64eee7",
   "metadata": {},
   "outputs": [],
   "source": []
  }
 ],
 "metadata": {
  "colab": {
   "name": "Welcome to DataCamp Workspaces.ipynb",
   "provenance": []
  },
  "kernelspec": {
   "display_name": "Python 3 (ipykernel)",
   "language": "python",
   "name": "python3"
  },
  "language_info": {
   "codemirror_mode": {
    "name": "ipython",
    "version": 3
   },
   "file_extension": ".py",
   "mimetype": "text/x-python",
   "name": "python",
   "nbconvert_exporter": "python",
   "pygments_lexer": "ipython3",
   "version": "3.10.4"
  }
 },
 "nbformat": 4,
 "nbformat_minor": 5
}
